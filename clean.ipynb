{
 "cells": [
  {
   "cell_type": "code",
   "execution_count": 207,
   "metadata": {},
   "outputs": [],
   "source": [
    "import pandas as pd\n",
    "import numpy as np\n",
    "import matplotlib"
   ]
  },
  {
   "cell_type": "code",
   "execution_count": 208,
   "metadata": {},
   "outputs": [],
   "source": [
    "data=pd.read_csv('doctors/n_w_physicians.csv')"
   ]
  },
  {
   "cell_type": "code",
   "execution_count": 209,
   "metadata": {},
   "outputs": [
    {
     "data": {
      "text/html": "<div>\n<style scoped>\n    .dataframe tbody tr th:only-of-type {\n        vertical-align: middle;\n    }\n\n    .dataframe tbody tr th {\n        vertical-align: top;\n    }\n\n    .dataframe thead th {\n        text-align: right;\n    }\n</style>\n<table border=\"1\" class=\"dataframe\">\n  <thead>\n    <tr style=\"text-align: right;\">\n      <th></th>\n      <th>name</th>\n      <th>address</th>\n      <th>phone</th>\n      <th>specialty</th>\n    </tr>\n  </thead>\n  <tbody>\n    <tr>\n      <th>2931</th>\n      <td>Marco Palmieri, DO</td>\n      <td>222 Middle Country Road Smithtown , NY 11787 4...</td>\n      <td>(631) 393-1645</td>\n      <td>Anesthesiology, Pain Medicine</td>\n    </tr>\n    <tr>\n      <th>537</th>\n      <td>Joseph A. Cardinale, MD</td>\n      <td>1728 Sunrise Highway Merrick , NY 11566 3480 V...</td>\n      <td>(516) 536-2800</td>\n      <td>Anesthesiology, Pain Medicine</td>\n    </tr>\n    <tr>\n      <th>1410</th>\n      <td>Virginia Elizabeth Gonzalez, MD</td>\n      <td>270 Park Avenue Huntington , NY 11743</td>\n      <td>(631) 358-9966</td>\n      <td>Family Medicine</td>\n    </tr>\n    <tr>\n      <th>1330</th>\n      <td>Karen E. Gibbs, MD</td>\n      <td>256 Mason Avenue Staten Island , NY 10305</td>\n      <td>(718) 226-1300</td>\n      <td>Surgery</td>\n    </tr>\n    <tr>\n      <th>3427</th>\n      <td>Mala Sachdeva, MD</td>\n      <td>100 Community Drive, Floor 2 Great Neck , NY 1...</td>\n      <td>(516) 465-8200</td>\n      <td>Nephrology, Internal Medicine</td>\n    </tr>\n  </tbody>\n</table>\n</div>",
      "text/plain": "                                 name  \\\n2931               Marco Palmieri, DO   \n537           Joseph A. Cardinale, MD   \n1410  Virginia Elizabeth Gonzalez, MD   \n1330               Karen E. Gibbs, MD   \n3427                Mala Sachdeva, MD   \n\n                                                address           phone  \\\n2931  222 Middle Country Road Smithtown , NY 11787 4...  (631) 393-1645   \n537   1728 Sunrise Highway Merrick , NY 11566 3480 V...  (516) 536-2800   \n1410              270 Park Avenue Huntington , NY 11743  (631) 358-9966   \n1330          256 Mason Avenue Staten Island , NY 10305  (718) 226-1300   \n3427  100 Community Drive, Floor 2 Great Neck , NY 1...  (516) 465-8200   \n\n                          specialty  \n2931  Anesthesiology, Pain Medicine  \n537   Anesthesiology, Pain Medicine  \n1410                Family Medicine  \n1330                        Surgery  \n3427  Nephrology, Internal Medicine  "
     },
     "execution_count": 209,
     "metadata": {},
     "output_type": "execute_result"
    }
   ],
   "source": [
    "data.sample(5)"
   ]
  },
  {
   "cell_type": "code",
   "execution_count": 210,
   "metadata": {},
   "outputs": [
    {
     "data": {
      "text/html": "<div>\n<style scoped>\n    .dataframe tbody tr th:only-of-type {\n        vertical-align: middle;\n    }\n\n    .dataframe tbody tr th {\n        vertical-align: top;\n    }\n\n    .dataframe thead th {\n        text-align: right;\n    }\n</style>\n<table border=\"1\" class=\"dataframe\">\n  <thead>\n    <tr style=\"text-align: right;\">\n      <th></th>\n      <th>0</th>\n      <th>1</th>\n      <th>2</th>\n      <th>3</th>\n      <th>4</th>\n      <th>5</th>\n      <th>6</th>\n      <th>7</th>\n      <th>8</th>\n      <th>9</th>\n      <th>...</th>\n      <th>29</th>\n      <th>30</th>\n      <th>31</th>\n      <th>32</th>\n      <th>33</th>\n      <th>34</th>\n      <th>35</th>\n      <th>36</th>\n      <th>37</th>\n      <th>38</th>\n    </tr>\n  </thead>\n  <tbody>\n    <tr>\n      <th>4288</th>\n      <td>475 Seaview Avenue Staten Island</td>\n      <td>NY 10305</td>\n      <td>None</td>\n      <td>None</td>\n      <td>None</td>\n      <td>None</td>\n      <td>None</td>\n      <td>None</td>\n      <td>None</td>\n      <td>None</td>\n      <td>...</td>\n      <td>None</td>\n      <td>None</td>\n      <td>None</td>\n      <td>None</td>\n      <td>None</td>\n      <td>None</td>\n      <td>None</td>\n      <td>None</td>\n      <td>None</td>\n      <td>None</td>\n    </tr>\n    <tr>\n      <th>57</th>\n      <td>100 East 77th Street New York</td>\n      <td>NY 10075</td>\n      <td>None</td>\n      <td>None</td>\n      <td>None</td>\n      <td>None</td>\n      <td>None</td>\n      <td>None</td>\n      <td>None</td>\n      <td>None</td>\n      <td>...</td>\n      <td>None</td>\n      <td>None</td>\n      <td>None</td>\n      <td>None</td>\n      <td>None</td>\n      <td>None</td>\n      <td>None</td>\n      <td>None</td>\n      <td>None</td>\n      <td>None</td>\n    </tr>\n    <tr>\n      <th>1122</th>\n      <td>410 Lakeville Road</td>\n      <td>Suite 108 New Hyde Park</td>\n      <td>NY 11042 376 East Main Street Bay Shore</td>\n      <td>NY 11706</td>\n      <td>None</td>\n      <td>None</td>\n      <td>None</td>\n      <td>None</td>\n      <td>None</td>\n      <td>None</td>\n      <td>...</td>\n      <td>None</td>\n      <td>None</td>\n      <td>None</td>\n      <td>None</td>\n      <td>None</td>\n      <td>None</td>\n      <td>None</td>\n      <td>None</td>\n      <td>None</td>\n      <td>None</td>\n    </tr>\n    <tr>\n      <th>3386</th>\n      <td>475 Seaview Avenue Staten Island</td>\n      <td>NY 10305</td>\n      <td>None</td>\n      <td>None</td>\n      <td>None</td>\n      <td>None</td>\n      <td>None</td>\n      <td>None</td>\n      <td>None</td>\n      <td>None</td>\n      <td>...</td>\n      <td>None</td>\n      <td>None</td>\n      <td>None</td>\n      <td>None</td>\n      <td>None</td>\n      <td>None</td>\n      <td>None</td>\n      <td>None</td>\n      <td>None</td>\n      <td>None</td>\n    </tr>\n    <tr>\n      <th>22</th>\n      <td>110 East 59th Street New York</td>\n      <td>NY 10022</td>\n      <td>None</td>\n      <td>None</td>\n      <td>None</td>\n      <td>None</td>\n      <td>None</td>\n      <td>None</td>\n      <td>None</td>\n      <td>None</td>\n      <td>...</td>\n      <td>None</td>\n      <td>None</td>\n      <td>None</td>\n      <td>None</td>\n      <td>None</td>\n      <td>None</td>\n      <td>None</td>\n      <td>None</td>\n      <td>None</td>\n      <td>None</td>\n    </tr>\n  </tbody>\n</table>\n<p>5 rows × 39 columns</p>\n</div>",
      "text/plain": "                                     0                          1   \\\n4288  475 Seaview Avenue Staten Island                    NY 10305   \n57       100 East 77th Street New York                    NY 10075   \n1122                 410 Lakeville Road   Suite 108 New Hyde Park    \n3386  475 Seaview Avenue Staten Island                    NY 10305   \n22       110 East 59th Street New York                    NY 10022   \n\n                                             2          3     4     5     6   \\\n4288                                       None       None  None  None  None   \n57                                         None       None  None  None  None   \n1122   NY 11042 376 East Main Street Bay Shore    NY 11706  None  None  None   \n3386                                       None       None  None  None  None   \n22                                         None       None  None  None  None   \n\n        7     8     9   ...    29    30    31    32    33    34    35    36  \\\n4288  None  None  None  ...  None  None  None  None  None  None  None  None   \n57    None  None  None  ...  None  None  None  None  None  None  None  None   \n1122  None  None  None  ...  None  None  None  None  None  None  None  None   \n3386  None  None  None  ...  None  None  None  None  None  None  None  None   \n22    None  None  None  ...  None  None  None  None  None  None  None  None   \n\n        37    38  \n4288  None  None  \n57    None  None  \n1122  None  None  \n3386  None  None  \n22    None  None  \n\n[5 rows x 39 columns]"
     },
     "execution_count": 210,
     "metadata": {},
     "output_type": "execute_result"
    }
   ],
   "source": [
    "df=data.address.str.split(',', expand=True)\n",
    "df.sample(5)\n"
   ]
  },
  {
   "cell_type": "code",
   "execution_count": 211,
   "metadata": {},
   "outputs": [],
   "source": [
    "# df.columns.to_list()"
   ]
  },
  {
   "cell_type": "code",
   "execution_count": 212,
   "metadata": {},
   "outputs": [],
   "source": [
    "# df['col1'] = np.where(df['col1'] == 0, \n",
    "#                       np.where(df['col2'] == 0, df['col3'], df['col2']),\n",
    "#                       df['col1'])"
   ]
  },
  {
   "cell_type": "code",
   "execution_count": 213,
   "metadata": {},
   "outputs": [
    {
     "data": {
      "text/plain": "1568"
     },
     "execution_count": 213,
     "metadata": {},
     "output_type": "execute_result"
    }
   ],
   "source": [
    "counter = 0\n",
    "for row in address[1]:\n",
    "    if not \"NY 1\" in row:\n",
    "        counter +=1\n",
    "counter\n",
    "        "
   ]
  },
  {
   "cell_type": "code",
   "execution_count": 214,
   "metadata": {},
   "outputs": [
    {
     "data": {
      "text/html": "<div>\n<style scoped>\n    .dataframe tbody tr th:only-of-type {\n        vertical-align: middle;\n    }\n\n    .dataframe tbody tr th {\n        vertical-align: top;\n    }\n\n    .dataframe thead th {\n        text-align: right;\n    }\n</style>\n<table border=\"1\" class=\"dataframe\">\n  <thead>\n    <tr style=\"text-align: right;\">\n      <th></th>\n      <th>0</th>\n      <th>1</th>\n      <th>2</th>\n      <th>3</th>\n      <th>4</th>\n    </tr>\n  </thead>\n  <tbody>\n    <tr>\n      <th>2631</th>\n      <td>45 Crossways Park Drive West Woodbury</td>\n      <td>NY 11797 123 Maple Avenue Cedarhurst</td>\n      <td>NY 11516 1101 Stewart Avenue</td>\n      <td>Suite 100 Garden City</td>\n      <td>NY 11530 660 Broadway Massapequa</td>\n    </tr>\n    <tr>\n      <th>3869</th>\n      <td>875 Old Country Road</td>\n      <td>Floor 2 Plainview</td>\n      <td>NY 11803</td>\n      <td>None</td>\n      <td>None</td>\n    </tr>\n    <tr>\n      <th>2560</th>\n      <td>400 Community Drive Manhasset</td>\n      <td>NY 11030 284 Pulaski Road Greenlawn</td>\n      <td>NY 11740</td>\n      <td>None</td>\n      <td>None</td>\n    </tr>\n    <tr>\n      <th>91</th>\n      <td>1575 Hillside Avenue</td>\n      <td>Suite 102 New Hyde Park</td>\n      <td>NY 11040</td>\n      <td>None</td>\n      <td>None</td>\n    </tr>\n    <tr>\n      <th>2211</th>\n      <td>211-16 Union Turnpike Bayside</td>\n      <td>NY 11364</td>\n      <td>NaN</td>\n      <td>None</td>\n      <td>None</td>\n    </tr>\n    <tr>\n      <th>2079</th>\n      <td>269-01 76th Avenue New Hyde Park</td>\n      <td>NY 11040</td>\n      <td>NaN</td>\n      <td>None</td>\n      <td>None</td>\n    </tr>\n    <tr>\n      <th>2812</th>\n      <td>300 Community Drive</td>\n      <td>9 Tower Manhasset</td>\n      <td>NY 11030</td>\n      <td>None</td>\n      <td>None</td>\n    </tr>\n  </tbody>\n</table>\n</div>",
      "text/plain": "                                           0  \\\n2631  45 Crossways Park Drive West Woodbury    \n3869                    875 Old Country Road   \n2560          400 Community Drive Manhasset    \n91                      1575 Hillside Avenue   \n2211          211-16 Union Turnpike Bayside    \n2079       269-01 76th Avenue New Hyde Park    \n2812                     300 Community Drive   \n\n                                           1                              2  \\\n2631   NY 11797 123 Maple Avenue Cedarhurst    NY 11516 1101 Stewart Avenue   \n3869                      Floor 2 Plainview                        NY 11803   \n2560    NY 11030 284 Pulaski Road Greenlawn                        NY 11740   \n91                  Suite 102 New Hyde Park                        NY 11040   \n2211                                NY 11364                            NaN   \n2079                                NY 11040                            NaN   \n2812                      9 Tower Manhasset                        NY 11030   \n\n                            3                                   4  \n2631   Suite 100 Garden City    NY 11530 660 Broadway Massapequa   \n3869                     None                                None  \n2560                     None                                None  \n91                       None                                None  \n2211                     None                                None  \n2079                     None                                None  \n2812                     None                                None  "
     },
     "execution_count": 214,
     "metadata": {},
     "output_type": "execute_result"
    }
   ],
   "source": [
    "address[1][address[1] == \"NY 1\"] = address[2]\n",
    "address.sample(7)"
   ]
  },
  {
   "cell_type": "code",
   "execution_count": 215,
   "metadata": {},
   "outputs": [
    {
     "data": {
      "text/plain": "4408"
     },
     "execution_count": 215,
     "metadata": {},
     "output_type": "execute_result"
    }
   ],
   "source": [
    "counter = 0\n",
    "for row in address[0]:\n",
    "    if \"NY 1\" not in row:\n",
    "        counter +=1\n",
    "counter"
   ]
  },
  {
   "cell_type": "code",
   "execution_count": 216,
   "metadata": {},
   "outputs": [
    {
     "data": {
      "text/plain": "4408"
     },
     "execution_count": 216,
     "metadata": {},
     "output_type": "execute_result"
    }
   ],
   "source": [
    "len(address)"
   ]
  },
  {
   "cell_type": "code",
   "execution_count": 217,
   "metadata": {},
   "outputs": [],
   "source": [
    "test= address"
   ]
  },
  {
   "cell_type": "code",
   "execution_count": 218,
   "metadata": {},
   "outputs": [
    {
     "data": {
      "text/html": "<div>\n<style scoped>\n    .dataframe tbody tr th:only-of-type {\n        vertical-align: middle;\n    }\n\n    .dataframe tbody tr th {\n        vertical-align: top;\n    }\n\n    .dataframe thead th {\n        text-align: right;\n    }\n</style>\n<table border=\"1\" class=\"dataframe\">\n  <thead>\n    <tr style=\"text-align: right;\">\n      <th></th>\n      <th>1</th>\n      <th>2</th>\n      <th>3</th>\n      <th>4</th>\n    </tr>\n    <tr>\n      <th>0</th>\n      <th></th>\n      <th></th>\n      <th></th>\n      <th></th>\n    </tr>\n  </thead>\n  <tbody>\n    <tr>\n      <th>270 Park Avenue Huntington</th>\n      <td>NY 11743</td>\n      <td>NaN</td>\n      <td>None</td>\n      <td>None</td>\n    </tr>\n    <tr>\n      <th>400 Community Drive Manhasset</th>\n      <td>NY 11030</td>\n      <td>NaN</td>\n      <td>None</td>\n      <td>None</td>\n    </tr>\n    <tr>\n      <th>270-5 76th Avenue New Hyde Park</th>\n      <td>NY 11040</td>\n      <td>NaN</td>\n      <td>None</td>\n      <td>None</td>\n    </tr>\n    <tr>\n      <th>475 Seaview Avenue Staten Island</th>\n      <td>NY 10305</td>\n      <td>NaN</td>\n      <td>None</td>\n      <td>None</td>\n    </tr>\n    <tr>\n      <th>733 Sunrise Highway</th>\n      <td>Floor 1 Lynbrook</td>\n      <td>NY 11563</td>\n      <td>None</td>\n      <td>None</td>\n    </tr>\n    <tr>\n      <th>...</th>\n      <td>...</td>\n      <td>...</td>\n      <td>...</td>\n      <td>...</td>\n    </tr>\n    <tr>\n      <th>70 North Country Road</th>\n      <td>Suite 105 Port Jefferson</td>\n      <td>NY 11777</td>\n      <td>None</td>\n      <td>None</td>\n    </tr>\n    <tr>\n      <th>611 Northern Boulevard</th>\n      <td>Suite 200 Great Neck</td>\n      <td>NY 11021</td>\n      <td>None</td>\n      <td>None</td>\n    </tr>\n    <tr>\n      <th>400 East Main Street Mount Kisco</th>\n      <td>NY 10549</td>\n      <td>NaN</td>\n      <td>None</td>\n      <td>None</td>\n    </tr>\n    <tr>\n      <th>733 Sunrise Highway Lynbrook</th>\n      <td>NY 11563</td>\n      <td>NaN</td>\n      <td>None</td>\n      <td>None</td>\n    </tr>\n    <tr>\n      <th>39 Brentwood Road Bay Shore</th>\n      <td>NY 11706</td>\n      <td>NaN</td>\n      <td>None</td>\n      <td>None</td>\n    </tr>\n  </tbody>\n</table>\n<p>4408 rows × 4 columns</p>\n</div>",
      "text/plain": "                                                            1          2  \\\n0                                                                          \n270 Park Avenue Huntington                           NY 11743        NaN   \n400 Community Drive Manhasset                        NY 11030        NaN   \n270-5 76th Avenue New Hyde Park                      NY 11040        NaN   \n475 Seaview Avenue Staten Island                     NY 10305        NaN   \n733 Sunrise Highway                         Floor 1 Lynbrook    NY 11563   \n...                                                       ...        ...   \n70 North Country Road               Suite 105 Port Jefferson    NY 11777   \n611 Northern Boulevard                  Suite 200 Great Neck    NY 11021   \n400 East Main Street Mount Kisco                     NY 10549        NaN   \n733 Sunrise Highway Lynbrook                         NY 11563        NaN   \n39 Brentwood Road Bay Shore                          NY 11706        NaN   \n\n                                      3     4  \n0                                              \n270 Park Avenue Huntington         None  None  \n400 Community Drive Manhasset      None  None  \n270-5 76th Avenue New Hyde Park    None  None  \n475 Seaview Avenue Staten Island   None  None  \n733 Sunrise Highway                None  None  \n...                                 ...   ...  \n70 North Country Road              None  None  \n611 Northern Boulevard             None  None  \n400 East Main Street Mount Kisco   None  None  \n733 Sunrise Highway Lynbrook       None  None  \n39 Brentwood Road Bay Shore        None  None  \n\n[4408 rows x 4 columns]"
     },
     "execution_count": 218,
     "metadata": {},
     "output_type": "execute_result"
    }
   ],
   "source": [
    "test.set_index(0)"
   ]
  },
  {
   "cell_type": "code",
   "execution_count": 219,
   "metadata": {},
   "outputs": [],
   "source": [
    "address.drop(columns=address.columns[5:37], inplace=True, axis=1)\n"
   ]
  },
  {
   "cell_type": "code",
   "execution_count": 220,
   "metadata": {},
   "outputs": [
    {
     "data": {
      "text/plain": "(4408, 5)"
     },
     "execution_count": 220,
     "metadata": {},
     "output_type": "execute_result"
    }
   ],
   "source": [
    "address.shape"
   ]
  },
  {
   "cell_type": "code",
   "execution_count": 221,
   "metadata": {},
   "outputs": [
    {
     "data": {
      "text/html": "<div>\n<style scoped>\n    .dataframe tbody tr th:only-of-type {\n        vertical-align: middle;\n    }\n\n    .dataframe tbody tr th {\n        vertical-align: top;\n    }\n\n    .dataframe thead th {\n        text-align: right;\n    }\n</style>\n<table border=\"1\" class=\"dataframe\">\n  <thead>\n    <tr style=\"text-align: right;\">\n      <th></th>\n      <th>0</th>\n      <th>1</th>\n      <th>2</th>\n      <th>3</th>\n      <th>4</th>\n    </tr>\n  </thead>\n  <tbody>\n    <tr>\n      <th>1373</th>\n      <td>376 East Main Street Bay Shore</td>\n      <td>NY 11706 222 Middle Country Road</td>\n      <td>Suite 106 Smithtown</td>\n      <td>NY 11787 400 Old Country Road Riverhead</td>\n      <td>NY 11901</td>\n    </tr>\n    <tr>\n      <th>3803</th>\n      <td>75-59 263rd Street</td>\n      <td>1142 Glen Oaks</td>\n      <td>NY 11004</td>\n      <td>None</td>\n      <td>None</td>\n    </tr>\n    <tr>\n      <th>3001</th>\n      <td>270 Park Avenue Huntington</td>\n      <td>NY 11743</td>\n      <td>NaN</td>\n      <td>None</td>\n      <td>None</td>\n    </tr>\n  </tbody>\n</table>\n</div>",
      "text/plain": "                                    0                                  1  \\\n1373  376 East Main Street Bay Shore    NY 11706 222 Middle Country Road   \n3803               75-59 263rd Street                    1142 Glen Oaks    \n3001      270 Park Avenue Huntington                            NY 11743   \n\n                          2                                          3  \\\n1373   Suite 106 Smithtown    NY 11787 400 Old Country Road Riverhead    \n3803               NY 11004                                       None   \n3001                    NaN                                       None   \n\n              4  \n1373   NY 11901  \n3803       None  \n3001       None  "
     },
     "execution_count": 221,
     "metadata": {},
     "output_type": "execute_result"
    }
   ],
   "source": [
    "address.sample(3)"
   ]
  },
  {
   "cell_type": "code",
   "execution_count": 231,
   "metadata": {},
   "outputs": [],
   "source": [
    "address[2].fillna(value=np.nan, inplace=True)\n",
    "# address[2].fillna(0, inplace=True)"
   ]
  },
  {
   "cell_type": "code",
   "execution_count": 232,
   "metadata": {},
   "outputs": [
    {
     "data": {
      "text/html": "<div>\n<style scoped>\n    .dataframe tbody tr th:only-of-type {\n        vertical-align: middle;\n    }\n\n    .dataframe tbody tr th {\n        vertical-align: top;\n    }\n\n    .dataframe thead th {\n        text-align: right;\n    }\n</style>\n<table border=\"1\" class=\"dataframe\">\n  <thead>\n    <tr style=\"text-align: right;\">\n      <th></th>\n      <th>0</th>\n      <th>1</th>\n      <th>2</th>\n      <th>3</th>\n      <th>4</th>\n    </tr>\n  </thead>\n  <tbody>\n    <tr>\n      <th>1850</th>\n      <td>321 Crossways Park Drive Woodbury</td>\n      <td>NY 11797</td>\n      <td>0</td>\n      <td>None</td>\n      <td>None</td>\n    </tr>\n    <tr>\n      <th>3946</th>\n      <td>75-59 263rd Street Glen Oaks</td>\n      <td>NY 11004</td>\n      <td>0</td>\n      <td>None</td>\n      <td>None</td>\n    </tr>\n    <tr>\n      <th>3967</th>\n      <td>1099 Targee Street Staten Island</td>\n      <td>NY 10304 3333 Hylan Boulevard Staten Island</td>\n      <td>NY 10306 9920 4th Avenue Brooklyn</td>\n      <td>NY 11209 65 Columbus Avenue Staten Island</td>\n      <td>NY 10304 3311 Hylan Boulevard Staten Island</td>\n    </tr>\n  </tbody>\n</table>\n</div>",
      "text/plain": "                                       0  \\\n1850  321 Crossways Park Drive Woodbury    \n3946       75-59 263rd Street Glen Oaks    \n3967   1099 Targee Street Staten Island    \n\n                                                  1  \\\n1850                                       NY 11797   \n3946                                       NY 11004   \n3967   NY 10304 3333 Hylan Boulevard Staten Island    \n\n                                        2  \\\n1850                                    0   \n3946                                    0   \n3967   NY 10306 9920 4th Avenue Brooklyn    \n\n                                                3  \\\n1850                                         None   \n3946                                         None   \n3967   NY 11209 65 Columbus Avenue Staten Island    \n\n                                                  4  \n1850                                           None  \n3946                                           None  \n3967   NY 10304 3311 Hylan Boulevard Staten Island   "
     },
     "execution_count": 232,
     "metadata": {},
     "output_type": "execute_result"
    }
   ],
   "source": [
    "address.sample(3)"
   ]
  },
  {
   "cell_type": "code",
   "execution_count": null,
   "metadata": {},
   "outputs": [],
   "source": []
  },
  {
   "cell_type": "code",
   "execution_count": null,
   "metadata": {},
   "outputs": [],
   "source": [
    "# df['col1'] = np.where(df['col1'] == 0, \n",
    "#                       np.where(df['col2'] == 0, df['col3'], df['col2']),\n",
    "#                       df['col1'])"
   ]
  },
  {
   "cell_type": "code",
   "execution_count": null,
   "metadata": {},
   "outputs": [],
   "source": [
    "# df.col1.replace(0,df.col2,inplace=True)\n",
    "# df.col1.replace(0,df.col3,inplace=True)\n",
    "                "
   ]
  },
  {
   "cell_type": "code",
   "execution_count": null,
   "metadata": {},
   "outputs": [],
   "source": [
    "\n"
   ]
  },
  {
   "cell_type": "code",
   "execution_count": null,
   "metadata": {},
   "outputs": [],
   "source": []
  },
  {
   "cell_type": "code",
   "execution_count": null,
   "metadata": {},
   "outputs": [],
   "source": []
  },
  {
   "cell_type": "code",
   "execution_count": null,
   "metadata": {},
   "outputs": [],
   "source": []
  }
 ],
 "metadata": {
  "kernelspec": {
   "display_name": "Python 3.8.5 64-bit ('base': conda)",
   "name": "python385jvsc74a57bd0a7b6f1d7cd7e8a237b5efdbd5ff45d74b16fcb3b5eaac95b2af74c2635f2719b"
  },
  "language_info": {
   "codemirror_mode": {
    "name": "ipython",
    "version": 3
   },
   "file_extension": ".py",
   "mimetype": "text/x-python",
   "name": "python",
   "nbconvert_exporter": "python",
   "pygments_lexer": "ipython3",
   "version": "3.8.5"
  },
  "metadata": {
   "interpreter": {
    "hash": "a7b6f1d7cd7e8a237b5efdbd5ff45d74b16fcb3b5eaac95b2af74c2635f2719b"
   }
  },
  "orig_nbformat": 2
 },
 "nbformat": 4,
 "nbformat_minor": 2
}